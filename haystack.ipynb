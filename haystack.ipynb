{
 "cells": [
  {
   "cell_type": "markdown",
   "metadata": {},
   "source": [
    "DMN Pipeline:"
   ]
  },
  {
   "cell_type": "code",
   "execution_count": null,
   "metadata": {},
   "outputs": [],
   "source": [
    "import requests\n",
    "\n",
    "from typing import List\n",
    "\n",
    "from haystack import Document, Pipeline, component\n",
    "from haystack import component\n",
    "from haystack.components.builders import PromptBuilder\n",
    "from haystack.components.generators.openai import OpenAIGenerator\n",
    "from haystack.components.fetchers import LinkContentFetcher\n",
    "from haystack.components.converters import HTMLToDocument"
   ]
  },
  {
   "cell_type": "code",
   "execution_count": null,
   "metadata": {},
   "outputs": [],
   "source": [
    "import pandas as pd"
   ]
  },
  {
   "cell_type": "code",
   "execution_count": null,
   "metadata": {},
   "outputs": [],
   "source": [
    "@component\n",
    "class ReviewData:\n",
    "\n",
    "    @component.output_types(reviews=str, company_name=str)\n",
    "    def run(self, csv_file_path: str, company: str):\n",
    "        dataframe1 = pd.read_csv(csv_file_path)\n",
    "        return {\"reviews\": dataframe1[[\"Review Text\",\"Reviewer Name\"]].head(10).to_dict(\"records\"), \"company_name\": company}\n",
    "        \n",
    "review_data = ReviewData()\n",
    "\n",
    "output = review_data.run(csv_file_path=\"fashionnova_reviews.csv\", company=\"fashionnova\")\n",
    "output[\"reviews\"]"
   ]
  },
  {
   "cell_type": "code",
   "execution_count": null,
   "metadata": {},
   "outputs": [],
   "source": [
    "from haystack.components.generators import HuggingFaceLocalGenerator\n",
    "\n",
    "generator2 = HuggingFaceLocalGenerator(\n",
    "    model=\"google/flan-t5-large\",\n",
    "    task=\"text2text-generation\",\n",
    "    generation_kwargs={\"max_new_tokens\": 100000, \"temperature\": 0.9})\n",
    "\n",
    "generator2.warm_up()\n",
    "print(generator2.run(\"Who is the best American actor?\"))"
   ]
  },
  {
   "cell_type": "code",
   "execution_count": null,
   "metadata": {},
   "outputs": [],
   "source": [
    "from haystack_integrations.components.generators.amazon_bedrock import AmazonBedrockGenerator\n",
    "\n",
    "generator = AmazonBedrockGenerator(\n",
    "        model=\"amazon.titan-text-lite-v1\",\n",
    "        max_length=99\n",
    ")\n",
    "\n",
    "# print(generator.run(\"Who is the best American actor?\"))"
   ]
  },
  {
   "cell_type": "code",
   "execution_count": null,
   "metadata": {},
   "outputs": [],
   "source": [
    "review_data = ReviewData()\n",
    "\n",
    "template = \"\"\" You will be provided a few of the top reviews for {{ company_name }}. For each review, which reviewers have positive sentiment?\n",
    "Reviews:  \n",
    "{% for review in reviews %}\n",
    "  review:\\n\n",
    "  {{ review['Reviewer Name'] }} wrote {{ review['Review Text'] }}\n",
    "{% endfor %}  \n",
    "\"\"\"\n",
    "prompt1 = PromptBuilder(template=template)\n",
    "print(prompt1.run(template_variables={\"reviews\": review_data.run(csv_file_path=\"fashionnova_reviews.csv\", company=\"fashionnova\")[\"reviews\"], \"company_name\": \"fashionnova\" }))\n"
   ]
  },
  {
   "cell_type": "code",
   "execution_count": null,
   "metadata": {},
   "outputs": [],
   "source": [
    "review_data = ReviewData()\n",
    "\n",
    "template = \"\"\" You will be provided a few of the top reviews for {{ company_name }}. Based on the Reviews, Which reviewers have negative sentiment?\n",
    "Reviews:  \n",
    "{% for review in reviews %}\n",
    "  review:\\n\n",
    "  {{ review['Reviewer Name'] }} wrote {{ review['Review Text'] }}\n",
    "{% endfor %}  \n",
    "\"\"\"\n",
    "prompt1 = PromptBuilder(template=template)\n",
    "print(prompt1.run(template_variables={\"reviews\": review_data.run(csv_file_path=\"fashionnova_reviews.csv\", company=\"fashionnova\")[\"reviews\"], \"company_name\": \"fashionnova\" }))\n",
    "\n",
    "# llm = OpenAIGenerator()\n",
    "\n",
    "dialogue_builder1 = Pipeline()\n",
    "dialogue_builder1.add_component(\"review_data\", review_data)\n",
    "dialogue_builder1.add_component(\"prompt\", prompt1)\n",
    "dialogue_builder1.add_component(\"llm\", generator)\n",
    "\n",
    "dialogue_builder1.connect(\"review_data.reviews\", \"prompt.reviews\")\n",
    "dialogue_builder1.connect(\"review_data.company_name\", \"prompt.company_name\")\n",
    "dialogue_builder1.connect(\"prompt\", \"llm\")"
   ]
  },
  {
   "cell_type": "code",
   "execution_count": null,
   "metadata": {},
   "outputs": [],
   "source": [
    "dialogue_builder1.show()"
   ]
  },
  {
   "cell_type": "code",
   "execution_count": null,
   "metadata": {},
   "outputs": [],
   "source": [
    "dialogue1 = dialogue_builder1.run({\"review_data\": {\"csv_file_path\":\"fashionnova_reviews.csv\", \"company\":\"fashionnova\"}})\n",
    "\n",
    "print(dialogue1[\"llm\"])"
   ]
  },
  {
   "cell_type": "code",
   "execution_count": null,
   "metadata": {},
   "outputs": [],
   "source": []
  }
 ],
 "metadata": {
  "interpreter": {
   "hash": "1e3333cf48a3064c8b4c9d767284072028dc94d9841c66ecbd13576bd9ef76af"
  },
  "kernelspec": {
   "display_name": "Python 3.10.2 ('venv': venv)",
   "language": "python",
   "name": "python3"
  },
  "language_info": {
   "codemirror_mode": {
    "name": "ipython",
    "version": 3
   },
   "file_extension": ".py",
   "mimetype": "text/x-python",
   "name": "python",
   "nbconvert_exporter": "python",
   "pygments_lexer": "ipython3",
   "version": "3.10.14"
  },
  "orig_nbformat": 4
 },
 "nbformat": 4,
 "nbformat_minor": 2
}
